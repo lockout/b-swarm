{
 "cells": [
  {
   "cell_type": "code",
   "execution_count": 1,
   "id": "bef02a87-b556-4739-9528-49243584ff2e",
   "metadata": {
    "tags": []
   },
   "outputs": [],
   "source": [
    "# coding=utf-8\n",
    "#\n",
    "# This file is part of b-swarm\n",
    "# Licensed under the GNU General Public License version 3 (GPLv3)\n",
    "#\n",
    "# Author: BB, 2024\n",
    "# __version__ = \"code_version\"\n",
    "__license__ = \"gplv3\"\n",
    "__author__ = \"bb\"\n",
    "__version__ = \"0.9\"\n",
    "\n",
    "\n",
    "from binascii import unhexlify\n",
    "from io import BytesIO\n",
    "from math import sqrt, prod\n",
    "\n",
    "import numpy as np\n",
    "import pandas as pd\n",
    "from ppdeep import compare as ppcompare\n",
    "from PIL import Image, ImageChops\n",
    "from sklearn.cluster import DBSCAN, HDBSCAN, OPTICS\n",
    "\n",
    "\n",
    "def ppdeep_diff(ppdeep1, ppdeep2):\n",
    "    if ppdeep1 and ppdeep2:\n",
    "        return ppcompare(ppdeep1, ppdeep2)\n",
    "    else:\n",
    "        return None\n",
    "\n",
    "def sha256_match(hash1, hash2):\n",
    "    if hash1 and hash2:\n",
    "        return hash1 == hash2\n",
    "    else:\n",
    "        return None\n",
    "\n",
    "def ssl_match(fprint1, fprint2):\n",
    "    if fprint1 and fprint2:\n",
    "        return fprint1 == fprint2\n",
    "    else:\n",
    "        return None\n",
    "\n",
    "def url_match(url1, url2):\n",
    "    if url1 and url2:\n",
    "        if url1.endswith('/'):\n",
    "            url1 = url1[:-1]\n",
    "        if url2.endswith('/'):\n",
    "            url2 = url2[:-1]\n",
    "        return url1 == url2\n",
    "    else:\n",
    "        return None\n",
    "\n",
    "def image_load(image, grayscale=True, grayscaleconvert=False, size=(1500, 3000), resize=False, subsample=False, factor=2):\n",
    "    if image:\n",
    "        image = unhexlify(image)\n",
    "        pilImage = Image.open(BytesIO(image))\n",
    "        if resize:\n",
    "            resizedImage = pilImage.resize(size)\n",
    "        if grayscaleconvert:\n",
    "            grayscaleImage = pilImage.convert(\"L\")\n",
    "    else:\n",
    "        if grayscale:\n",
    "            pilImage = Image.new('L', (size[0], size[1]))\n",
    "        else:\n",
    "            pilImage = Image.new('RGB', (size[0], size[1]), (0xff, 0xff, 0xff))\n",
    "    if subsample:\n",
    "        imageArray = np.array(pilImage)\n",
    "        pilImage = Image.fromarray(imageArray[::factor, ::factor])\n",
    "    return pilImage\n",
    "\n",
    "def image_mse(image1, image2):\n",
    "    npImage1 = np.array(image1)\n",
    "    npImage2 = np.array(image2)\n",
    "    squared_diff = np.square(npImage1 - npImage2)\n",
    "    mse = np.mean(squared_diff)\n",
    "    return mse\n",
    "\n",
    "def image_diff(image1, image2):\n",
    "    diff = ImageChops.difference(image1, image2)\n",
    "    return diff\n",
    "\n",
    "def calculate_rmse(mseValues):\n",
    "    sqMseSum = sum(mse ** 2 for mse in mseValues)\n",
    "    rmse = sqrt(sqMseSum / len(mseValues))\n",
    "    return rmse\n",
    "\n",
    "def calculate_arithmetic_mean(values, handlenone=True, nonevalue=0):\n",
    "    if handlenone:\n",
    "        values = [nonevalue if value == None else value for value in values]\n",
    "    return sum(values) / len(values)\n",
    "\n",
    "def calculate_normalized_diff(ent1, ent2, handleinf=True, inf=1e32):\n",
    "    absDiff = abs(ent1 - ent2)\n",
    "    average = (ent1 + ent2) / 2\n",
    "    if average != 0:\n",
    "        normDiff = absDiff / average\n",
    "    else:\n",
    "        if handleinf:\n",
    "            normDiff = inf\n",
    "        else:\n",
    "            normDiff = float(\"inf\")\n",
    "    return float(normDiff)\n",
    "\n",
    "def cluster_dbscan(df, eps=1.3, samples=1):\n",
    "    dbscan = DBSCAN(eps=eps, min_samples=samples)\n",
    "    dbscan.fit(scaledDf)\n",
    "    return list(dbscan.labels_)\n",
    "\n",
    "def cluster_hdbscan(df, samples=2):\n",
    "    hdbscan = HDBSCAN(min_cluster_size=samples)\n",
    "    hdbscan.fit(scaledDf)\n",
    "    return list(hdbscan.labels_)\n",
    "\n",
    "def cluster_optics(df, samples=2):\n",
    "    optics = OPTICS(min_cluster_size=samples)\n",
    "    optics.fit(scaledDf)\n",
    "    return list(optics.labels_)"
   ]
  },
  {
   "cell_type": "code",
   "execution_count": 2,
   "id": "40eb86b0-89b6-4f6d-9395-27ba01421b5d",
   "metadata": {
    "tags": []
   },
   "outputs": [],
   "source": [
    "from time import time\n",
    "\n",
    "import clickhouse_connect as cc\n",
    "\n",
    "\n",
    "def convert_image_array(image, resize_width=128, resize=True):\n",
    "    img = image_load(image)\n",
    "    if resize:\n",
    "        imgWidth, imgHeight = img.size\n",
    "        aspect = imgHeight // imgWidth\n",
    "        img = img.resize((resize_width, resize_width * aspect)).convert('L')\n",
    "    return np.asarray(img).flatten()\n",
    "\n",
    "def convert_sha256_value(sha256_hash):\n",
    "    if sha256_hash:\n",
    "        return int(sha256_hash, 16)\n",
    "    else:\n",
    "        return 0\n",
    "\n",
    "def calculate_mean_ppdeep(ppdeepNpArray):\n",
    "    hashDiffList = []\n",
    "    npArrayLen = len(ppdeepNpArray)\n",
    "    for i in range(0, npArrayLen):\n",
    "        hashList = []\n",
    "        fhash1 = ppdeepNpArray[i]\n",
    "        for j in range(0, npArrayLen):\n",
    "            if i == j:\n",
    "                continue\n",
    "            fhash2 = ppdeepNpArray[j]\n",
    "            hashList.append(ppdeep_diff(fhash1, fhash2))\n",
    "        hashDiffList.append(calculate_arithmetic_mean(hashList))\n",
    "    return hashDiffList\n",
    "\n",
    "def calculate_mean_mse(imgNpArray):\n",
    "    mseDiffList = []\n",
    "    npArrayLen = len(imgNpArray)\n",
    "    for i in range(0, npArrayLen):\n",
    "        mseList = []\n",
    "        img1 = imgNpArray[i]\n",
    "        for j in range(0, npArrayLen):\n",
    "            if i == j:\n",
    "                continue\n",
    "            img2 = imgNpArray[j]\n",
    "            squared_diff = np.square(img1 - img2)\n",
    "            mse = np.mean(squared_diff)\n",
    "            mseList.append(mse)\n",
    "        mseDiffList.append(calculate_rmse(mseList))\n",
    "    return mseDiffList\n",
    "\n",
    "def db_connect(db_host=\"localhost\", db_username=\"default\", db_password=\"\"):\n",
    "    client = cc.get_client(host=db_host, username=db_username, password=db_password)\n",
    "    return client\n",
    "\n",
    "def create_snapshot_diff(cc_client, snapshot_db=\"harvester\", snapshot_table=\"snapshot\", diff_table=\"difference\", verbose=True):\n",
    "    cc_client.command(f\"DROP TABLE IF EXISTS {snapshot_db}.{diff_table}\")\n",
    "    cc_client.command(f\"CREATE TABLE IF NOT EXISTS {snapshot_db}.{diff_table} (url_init String, meta_agentid String, diff_fuzzyhash Float64, diff_mse Float64) ENGINE = MergeTree() ORDER BY url_init\")\n",
    "    \n",
    "    urlList = cc_client.query(f\"SELECT DISTINCT url.init FROM {snapshot_db}.{snapshot_table} ORDER BY url.init\").result_columns[0]\n",
    "    u = 0\n",
    "    ucount = len(urlList)\n",
    "    for url in urlList:\n",
    "        startTime = time()\n",
    "        diffDf = client.query_df(f\"SELECT url.init, meta.agentid, http.fuzzyhash, http.image FROM {snapshot_db}.{snapshot_table} WHERE url.init=='{url}' ORDER BY meta.agentid ASC\")\n",
    "        # Process sha256 - can be queried and processed from the snapshot table directly\n",
    "        # diffDf['http.sha256'] = diffDf['http.sha256'].apply(convert_sha256_value)\n",
    "        # Process fuzzy-hash CTPH\n",
    "        diffDf['http.fuzzyhash'] = calculate_mean_ppdeep(diffDf['http.fuzzyhash'].to_numpy())\n",
    "        # Process PNG image MSE, SSIM\n",
    "        diffDf['http.image'] = diffDf['http.image'].apply(convert_image_array, resize=False)\n",
    "        diffDf['diff_mse'] = calculate_mean_mse(diffDf['http.image'].to_numpy())\n",
    "        diffDf = diffDf.drop('http.image', axis=1)\n",
    "\n",
    "        # Fixed in harvester syntax 0.52. While the snapshot file still uses dot synatx, retain this. Modify once the new snapshot format becomes the main one.\n",
    "        # Modify everywhere in the code!\n",
    "        diffDf.rename(columns={'url.init': 'url_init', 'meta.agentid': 'meta_agentid', 'http.fuzzyhash': 'diff_fuzzyhash'}, inplace=True)\n",
    "        \n",
    "        diffSchema = {\n",
    "            \"url_init\": \"string\",\n",
    "            \"meta_agentid\": \"string\",\n",
    "            \"diff_fuzzyhash\": \"float64\",\n",
    "            \"diff_mse\": \"float64\"\n",
    "            }\n",
    "        diffDf = diffDf.astype(diffSchema)\n",
    "        status = cc_client.insert_df(database=snapshot_db, table=diff_table, df=diffDf)\n",
    "        endTime = time()\n",
    "        u += 1\n",
    "        if verbose:\n",
    "            print(f\"{int(u / ucount * 100)}%  \\t ({u}/{ucount}) \\t {round((endTime - startTime), 2)}s \\t {url}\")\n",
    "\n",
    "def export_diff_parquet(cc_client, diff_file=None, snapshot_db=\"harvester\", diff_table=\"difference\", method=\"clickhouse\"):\n",
    "    if not diff_file:\n",
    "        agentId = cc_client.command(f\"SELECT meta_agentid from {snapshot_db}.{diff_table} LIMIT 1\")\n",
    "        taskId = agentId.split(\":\")[-1]\n",
    "        diff_file = f\"{taskId}_diff.parquet\"\n",
    "    if method.lower() == \"clickhouse\":\n",
    "        try:\n",
    "            status = cc_client.command(f\"SET engine_file_allow_create_multiple_files = 1\")\n",
    "            status = cc_client.command(f\"INSERT INTO FUNCTION file('{diff_file}') SELECT * FROM {snapshot_db}.{diff_table} FORMAT Parquet SETTINGS compression = 'snappy'\")\n",
    "            return status\n",
    "        except Exception as err:\n",
    "            return err\n",
    "    if method.lower() == \"pandas\":\n",
    "        df = cc_client.query_df(f\"SELECT * FROM {snapshot_db}.{diff_table} ORDER BY url_init ASC\")\n",
    "        try:\n",
    "            df.to_parquet(diff_file, engine=\"fastparquet\", index=False, compression=\"snappy\")\n",
    "        except Exception as err:\n",
    "            return err\n",
    "\n",
    "def load_db(cc_client, snapshot_db=\"harvester\", snapshot_table=\"snapshot\", diff_table=\"difference\", snapshot_file=\"report*.parquet\", diff_file=\"*_diff.parquet\", clean_init=True):\n",
    "    if clean_init:\n",
    "        cc_client.command(f\"DROP TABLE IF EXISTS {snapshot_db}.{snapshot_table}\")\n",
    "        cc_client.command(f\"DROP TABLE IF EXISTS {snapshot_db}.{diff_table}\")\n",
    "        cc_client.command(f\"DROP DATABASE IF EXISTS {snapshot_db}\")\n",
    "        cc_client.command(f\"CREATE DATABASE {snapshot_db}\")\n",
    "    try:\n",
    "        cc_client.command(f\"CREATE TABLE {snapshot_db}.{snapshot_table} ENGINE = MergeTree ORDER BY tuple() AS SELECT * FROM file('{snapshot_file}', Parquet)\")\n",
    "        cc_client.command(f\"CREATE TABLE {snapshot_db}.{diff_table} ENGINE = MergeTree ORDER BY tuple() AS SELECT * FROM file('{diff_file}', Parquet)\")\n",
    "    except Exception as err:\n",
    "        return err\n",
    "\n",
    "\n",
    "client = db_connect()\n",
    "#create_snapshot_diff(client)\n",
    "#export_diff_parquet(client)\n",
    "#load_db(client)"
   ]
  },
  {
   "cell_type": "code",
   "execution_count": 38,
   "id": "430df862-dd43-4af9-a53f-8664ab931f82",
   "metadata": {},
   "outputs": [
    {
     "name": "stdout",
     "output_type": "stream",
     "text": [
      "https://linkedin.com\n",
      "Raw DBSCAN: \t [2, 0, 0, 0, 0, 1, 0, 1, 0, 1, 0, -1, 0, 2, 0, 2, 1, 0]\n",
      "Robust DBSCAN: \t [-1, 0, 0, 0, 1, 0, 1, 0, 0, 0, 1, -1, 0, 0, 1, 1, 0, 0]\n",
      "Robust HDBSCAN:  [-1, 1, 1, 1, 0, 2, 0, 2, 1, 2, 0, -1, 1, 1, 0, -1, 2, 1]\n",
      "Robust OPTICS: \t [-1, 0, 0, 0, 2, 1, 2, 1, 0, 1, 2, -1, 0, 0, 2, 2, 1, 0]\n",
      "Raw OPTICS: \t [-1, 0, 0, 1, 0, -1, 1, 2, 0, 2, -1, -1, 0, -1, 1, -1, 2, 1]\n",
      "Affinity: \t [0, 3, 3, 3, 1, 4, 1, 4, 3, 4, 1, 2, 3, 3, 1, 1, 4, 3]\n",
      "[[-3.34862385e+00  4.94855203e-01]\n",
      " [-4.58715596e-02  1.12687252e-01]\n",
      " [-4.58715596e-02  1.18255747e-01]\n",
      " [ 2.29357798e-01 -1.41200091e-01]\n",
      " [-5.96330275e-01  9.45580013e-02]\n",
      " [ 4.12844037e-01 -5.54203018e-01]\n",
      " [-7.79816514e-01 -9.45580013e-02]\n",
      " [ 3.21100917e-01 -6.56074668e-01]\n",
      " [ 2.29357798e-01  1.57941421e-01]\n",
      " [ 5.04587156e-01 -7.17473172e-01]\n",
      " [-6.88073394e-01 -3.23213209e-01]\n",
      " [-1.35917431e+02  2.01108765e+00]\n",
      " [ 4.58715596e-02  1.78078119e-01]\n",
      " [ 4.58715596e-02  4.71930662e-01]\n",
      " [-5.04587156e-01 -9.45580013e-02]\n",
      " [-5.04587156e-01  4.45094705e-01]\n",
      " [ 4.12844037e-01 -7.17851011e-01]\n",
      " [ 3.21100917e-01 -1.31170179e-01]]\n"
     ]
    },
    {
     "data": {
      "image/png": "[encoded data removed]",
      "text/plain": [
       "<Figure size 640x480 with 1 Axes>"
      ]
     },
     "metadata": {},
     "output_type": "display_data"
    },
    {
     "name": "stdout",
     "output_type": "stream",
     "text": [
      "[+] Cluster: -1 length 2\n"
     ]
    },
    {
     "data": {
      "application/vnd.jupyter.widget-view+json": {
       "model_id": "d8d0bd77c459464d866ee3e8fbcd0995",
       "version_major": 2,
       "version_minor": 0
      },
      "text/plain": [
       "HBox(children=(Image(value=b'\\x89PNG\\r\\n\\x1a\\n\\x00\\x00\\x00\\rIHDR\\x00\\x00\\x01,\\x00\\x00\\x02X\\x08\\x00\\x00\\x00\\x00…"
      ]
     },
     "metadata": {},
     "output_type": "display_data"
    },
    {
     "name": "stdout",
     "output_type": "stream",
     "text": [
      "[+] Cluster: 0 length 7\n"
     ]
    },
    {
     "data": {
      "application/vnd.jupyter.widget-view+json": {
       "model_id": "92fe2300f0b44e0f9cc5c77e5cbddf2d",
       "version_major": 2,
       "version_minor": 0
      },
      "text/plain": [
       "HBox(children=(Image(value=b'\\x89PNG\\r\\n\\x1a\\n\\x00\\x00\\x00\\rIHDR\\x00\\x00\\x01,\\x00\\x00\\x02X\\x08\\x00\\x00\\x00\\x00…"
      ]
     },
     "metadata": {},
     "output_type": "display_data"
    },
    {
     "name": "stdout",
     "output_type": "stream",
     "text": [
      "[+] Cluster: 2 length 5\n"
     ]
    },
    {
     "data": {
      "application/vnd.jupyter.widget-view+json": {
       "model_id": "fe0a34eff02640048f87bac2f78afc69",
       "version_major": 2,
       "version_minor": 0
      },
      "text/plain": [
       "HBox(children=(Image(value=b'\\x89PNG\\r\\n\\x1a\\n\\x00\\x00\\x00\\rIHDR\\x00\\x00\\x01,\\x00\\x00\\x02X\\x08\\x00\\x00\\x00\\x00…"
      ]
     },
     "metadata": {},
     "output_type": "display_data"
    },
    {
     "name": "stdout",
     "output_type": "stream",
     "text": [
      "[+] Cluster: 1 length 4\n"
     ]
    },
    {
     "data": {
      "application/vnd.jupyter.widget-view+json": {
       "model_id": "f9235faadeb24c67a9d38a4bee99e835",
       "version_major": 2,
       "version_minor": 0
      },
      "text/plain": [
       "HBox(children=(Image(value=b'\\x89PNG\\r\\n\\x1a\\n\\x00\\x00\\x00\\rIHDR\\x00\\x00\\x01,\\x00\\x00\\x02X\\x08\\x00\\x00\\x00\\x00…"
      ]
     },
     "metadata": {},
     "output_type": "display_data"
    }
   ],
   "source": [
    "##### import matplotlib.pyplot as plt\n",
    "\n",
    "from sklearn.preprocessing import RobustScaler, MinMaxScaler\n",
    "# from sklearn.neighbors import NearestNeighbors\n",
    "from sklearn.cluster import AffinityPropagation\n",
    "# from sklearn.decomposition import PCA\n",
    "# from sklearn.manifold import TSNE\n",
    "\n",
    "from ipywidgets import HBox\n",
    "from ipywidgets import Image as ipyImage\n",
    "from IPython.display import display\n",
    "# from ipywidgets import interact\n",
    "\n",
    "\n",
    "def display_image_cluster(image_list, cluster_list, image_ratio=5):\n",
    "    imgWidgets = []\n",
    "    for image in image_list:\n",
    "        img = image_load(image)\n",
    "        IMAGE_RATIO = image_ratio\n",
    "        reimg = ( img.resize((\n",
    "            int(img.width // IMAGE_RATIO),\n",
    "            int(img.height // IMAGE_RATIO)\n",
    "            )) )\n",
    "        imgWidgets.append(ipyImage(value=reimg._repr_png_(), format='png'))\n",
    "    clusters = {}\n",
    "    for i in range(0, len(cluster_list)):\n",
    "        cluster = cluster_list[i]\n",
    "        widget = imgWidgets[i]\n",
    "        if cluster not in clusters.keys():\n",
    "            clusters[cluster] = []\n",
    "        clusters[cluster].append(widget)\n",
    "    imgHboxes = []\n",
    "    for key, val in clusters.items():\n",
    "        print(f\"[+] Cluster: {key} length {len(val)}\")\n",
    "        display(HBox(val))\n",
    "\n",
    "\n",
    "snapshotDb = \"harvester\"\n",
    "snapshotTable = \"snapshot\"\n",
    "diffTable = \"difference\"\n",
    "urlList = client.query(f\"SELECT DISTINCT url_init FROM {snapshotDb}.{diffTable} ORDER BY url_init ASC\").result_columns[0]\n",
    "agentList = client.query(f\"SELECT DISTINCT meta_agentid FROM {snapshotDb}.{diffTable} ORDER BY meta_agentid ASC\").result_columns[0]\n",
    "\n",
    "url = urlList[14]\n",
    "print(url)\n",
    "frame = client.query_np(f\"SELECT diff_fuzzyhash, diff_mse FROM {snapshotDb}.{diffTable} WHERE url_init=='{url}' ORDER BY meta_agentid ASC\")\n",
    "totalframe = client.query_np(f\"SELECT diff_fuzzyhash, diff_mse FROM {snapshotDb}.{diffTable} ORDER BY meta_agentid ASC\")\n",
    "\n",
    "samples = 3\n",
    "\n",
    "eps= 2\n",
    "dbscan = DBSCAN(eps=eps, min_samples=samples)\n",
    "dbscan.fit(frame)\n",
    "rdlabels = list(dbscan.labels_)\n",
    "print(\"Raw DBSCAN: \\t\", rdlabels)\n",
    "\n",
    "eps = 0.5\n",
    "scaler = RobustScaler(quantile_range=(25.0, 95.0))\n",
    "#scaler = MinMaxScaler()\n",
    "frame2 = scaler.fit_transform(frame)\n",
    "dbscan = DBSCAN(eps=eps, min_samples=samples)\n",
    "dbscan.fit(frame2)\n",
    "dlabels = list(dbscan.labels_)\n",
    "print(\"Robust DBSCAN: \\t\", dlabels)\n",
    "\n",
    "hdbscan = HDBSCAN(min_cluster_size=samples)\n",
    "hdbscan.fit(frame2)\n",
    "hlabels = list(hdbscan.labels_)\n",
    "print(\"Robust HDBSCAN: \", hlabels)\n",
    "\n",
    "optics = OPTICS(min_samples=samples, metric=\"minkowski\", max_eps=1)\n",
    "optics.fit(frame2)\n",
    "olabels = list(optics.labels_)\n",
    "print(\"Robust OPTICS: \\t\", olabels)\n",
    "\n",
    "optics.fit(frame)\n",
    "rolabels = list(optics.labels_)\n",
    "print(\"Raw OPTICS: \\t\", rolabels)\n",
    "\n",
    "affinity = AffinityPropagation()\n",
    "affinity.fit(frame2)\n",
    "alabels = list(affinity.labels_)\n",
    "print(\"Affinity: \\t\", alabels)\n",
    "\n",
    "print(frame2)\n",
    "plt.scatter(x=frame2[:, 0], y=frame2[:, 1])\n",
    "xmedian = np.median(frame2[:, 0])\n",
    "ymedian = np.median(frame2[:, 1])\n",
    "plt.axvline(xmedian, color='red', linestyle='dashed', linewidth=1)\n",
    "plt.axhline(ymedian, color='red', linestyle='dashed', linewidth=1)\n",
    "threshold = 0.75\n",
    "plt.axvline((xmedian + threshold), color='blue', linestyle='dashed', linewidth=1)\n",
    "plt.axvline((xmedian - threshold), color='blue', linestyle='dashed', linewidth=1)\n",
    "plt.axhline((ymedian + threshold), color='blue', linestyle='dashed', linewidth=1)\n",
    "plt.axhline((ymedian - threshold), color='blue', linestyle='dashed', linewidth=1)\n",
    "plt.show()\n",
    "\n",
    "images = client.query(f\"select http.image from harvester.snapshot where url.init=='{url}' order by meta.agentid asc\").result_columns[0]\n",
    "zlabels = [0] * 18\n",
    "display_image_cluster(images, olabels)"
   ]
  },
  {
   "cell_type": "code",
   "execution_count": 20,
   "id": "4467d0d1-fe9c-4799-8564-657f4e6c81f3",
   "metadata": {},
   "outputs": [],
   "source": [
    "imageDf = client.query_df(f\"select http.image from harvester.snapshot where url.init=='{url}' order by meta.agentid asc\")\n",
    "imageDf['http.image'] = imageDf['http.image'].apply(convert_image_array, resize=False)\n",
    "data = np.array([img for img in imageDf['http.image'].to_list()])"
   ]
  },
  {
   "cell_type": "code",
   "execution_count": 23,
   "id": "d5975462-5d17-420d-9c65-f55eb2919f75",
   "metadata": {},
   "outputs": [
    {
     "name": "stdout",
     "output_type": "stream",
     "text": [
      "[-1, 0, 0, 2, 0, 1, -1, 1, 0, 1, -1, -1, 0, 2, -1, 2, 1, 2]\n"
     ]
    },
    {
     "data": {
      "image/png": "[encoded data removed]",
      "text/plain": [
       "<Figure size 640x480 with 1 Axes>"
      ]
     },
     "metadata": {},
     "output_type": "display_data"
    }
   ],
   "source": [
    "from sklearn.decomposition import PCA\n",
    "from sklearn.manifold import TSNE\n",
    "\n",
    "\n",
    "pca = PCA(n_components=2)\n",
    "fitdata = pca.fit_transform(data)\n",
    "tsne = TSNE(n_components=2, perplexity=2)\n",
    "fitdata = tsne.fit_transform(fitdata)\n",
    "scaler = RobustScaler()\n",
    "fitdata = scaler.fit_transform(fitdata)\n",
    "plt.scatter(fitdata[:, 0], fitdata[:, 1])\n",
    "plt.plot()\n",
    "clustering = OPTICS(min_samples=3).fit(data)\n",
    "labels = list(clustering.labels_)\n",
    "print(labels)"
   ]
  },
  {
   "cell_type": "code",
   "execution_count": 22,
   "id": "c5c094e5-61ff-4bde-9fc1-a0b3fa70ba2d",
   "metadata": {},
   "outputs": [
    {
     "name": "stdout",
     "output_type": "stream",
     "text": [
      "[+] Cluster: -1 length 5\n"
     ]
    },
    {
     "data": {
      "application/vnd.jupyter.widget-view+json": {
       "model_id": "6625c8573455462f85efd5e0f8863429",
       "version_major": 2,
       "version_minor": 0
      },
      "text/plain": [
       "HBox(children=(Image(value=b'\\x89PNG\\r\\n\\x1a\\n\\x00\\x00\\x00\\rIHDR\\x00\\x00\\x01,\\x00\\x00\\x02X\\x08\\x00\\x00\\x00\\x00…"
      ]
     },
     "metadata": {},
     "output_type": "display_data"
    },
    {
     "name": "stdout",
     "output_type": "stream",
     "text": [
      "[+] Cluster: 0 length 5\n"
     ]
    },
    {
     "data": {
      "application/vnd.jupyter.widget-view+json": {
       "model_id": "781b79c7d599484c8c9184809d91082b",
       "version_major": 2,
       "version_minor": 0
      },
      "text/plain": [
       "HBox(children=(Image(value=b'\\x89PNG\\r\\n\\x1a\\n\\x00\\x00\\x00\\rIHDR\\x00\\x00\\x01,\\x00\\x00\\x02X\\x08\\x00\\x00\\x00\\x00…"
      ]
     },
     "metadata": {},
     "output_type": "display_data"
    },
    {
     "name": "stdout",
     "output_type": "stream",
     "text": [
      "[+] Cluster: 2 length 4\n"
     ]
    },
    {
     "data": {
      "application/vnd.jupyter.widget-view+json": {
       "model_id": "44d824bde3c74fc6b5eb937833abc5d4",
       "version_major": 2,
       "version_minor": 0
      },
      "text/plain": [
       "HBox(children=(Image(value=b'\\x89PNG\\r\\n\\x1a\\n\\x00\\x00\\x00\\rIHDR\\x00\\x00\\x01,\\x00\\x00\\x02X\\x08\\x00\\x00\\x00\\x00…"
      ]
     },
     "metadata": {},
     "output_type": "display_data"
    },
    {
     "name": "stdout",
     "output_type": "stream",
     "text": [
      "[+] Cluster: 1 length 4\n"
     ]
    },
    {
     "data": {
      "application/vnd.jupyter.widget-view+json": {
       "model_id": "b69eacb6e9e749fdb21d6b68f31874ac",
       "version_major": 2,
       "version_minor": 0
      },
      "text/plain": [
       "HBox(children=(Image(value=b'\\x89PNG\\r\\n\\x1a\\n\\x00\\x00\\x00\\rIHDR\\x00\\x00\\x01,\\x00\\x00\\x02X\\x08\\x00\\x00\\x00\\x00…"
      ]
     },
     "metadata": {},
     "output_type": "display_data"
    }
   ],
   "source": [
    "images = client.query(f\"select http.image from harvester.snapshot where url.init=='{url}' order by meta.agentid asc\").result_columns[0]\n",
    "display_image_cluster(images, labels)"
   ]
  },
  {
   "cell_type": "code",
   "execution_count": null,
   "id": "259626ba-d8b8-493e-92ef-9643e64f2865",
   "metadata": {},
   "outputs": [],
   "source": [
    "_, axs = plt.subplots(1, 3, figsize=(20, 7))\n",
    "\n",
    "xmedian = np.median(totalframe[:, 0])\n",
    "ymedian = np.median(totalframe[:, 1])\n",
    "axs[0].scatter(totalframe[:, 0], totalframe[:, 1])\n",
    "axs[0].axvline(xmedian, color='red', linestyle='dashed', linewidth=1)\n",
    "axs[0].axhline(ymedian, color='red', linestyle='dashed', linewidth=1)\n",
    "\n",
    "scaler = RobustScaler(quantile_range=(25.0, 75.0))\n",
    "scaler = MinMaxScaler()\n",
    "rtotalframe = scaler.fit_transform(totalframe)\n",
    "xmedian = np.median(rtotalframe[:, 0])\n",
    "ymedian = np.median(rtotalframe[:, 1])\n",
    "axs[1].scatter(rtotalframe[:, 0], rtotalframe[:, 1])\n",
    "axs[1].axvline(xmedian, color='red', linestyle='dashed', linewidth=1)\n",
    "axs[1].axhline(ymedian, color='red', linestyle='dashed', linewidth=1)\n",
    "\n",
    "arrayList = []\n",
    "for url in urlList:\n",
    "    frame = client.query_np(f\"SELECT diff_fuzzyhash, diff_mse FROM {snapshotDb}.{diffTable} WHERE url_init=='{url}' ORDER BY meta_agentid ASC\")\n",
    "    scaler = RobustScaler(quantile_range=(25.0, 75.0))\n",
    "    scaler = MinMaxScaler()\n",
    "    frame = scaler.fit_transform(frame)\n",
    "    arrayList.append(frame)\n",
    "\n",
    "totalarray = np.vstack(arrayList)\n",
    "xmedian = np.median(totalarray[:, 0])\n",
    "ymedian = np.median(totalarray[:, 1])\n",
    "axs[2].scatter(totalarray[:, 0], totalarray[:, 1])\n",
    "axs[2].axvline(xmedian, color='red', linestyle='dashed', linewidth=1)\n",
    "axs[2].axhline(ymedian, color='red', linestyle='dashed', linewidth=1)\n",
    "\n",
    "plt.show()"
   ]
  },
  {
   "cell_type": "code",
   "execution_count": null,
   "id": "85eb7c84-d1ca-4efc-beca-cfc8e47e73e0",
   "metadata": {},
   "outputs": [],
   "source": [
    "import numpy as np\n",
    "import matplotlib.pyplot as plt\n",
    "\n",
    "# Example list of floating-point values\n",
    "values = totalarray[:, 0]\n",
    "\n",
    "# Calculate the median value using NumPy\n",
    "median_value = np.median(values)\n",
    "\n",
    "# Create a histogram to visualize the value distribution\n",
    "plt.hist(values, bins=10, color='skyblue', edgecolor='black')\n",
    "\n",
    "# Add a vertical line for the median value\n",
    "plt.axvline(median_value, color='red', linestyle='dashed', linewidth=1)\n",
    "\n",
    "# Add labels and title\n",
    "plt.xlabel('Values')\n",
    "plt.ylabel('Frequency')\n",
    "plt.title('Value Distribution')\n",
    "\n",
    "# Add legend for the median line\n",
    "plt.legend(['Median'])\n",
    "\n",
    "# Show the plot\n",
    "plt.show()\n",
    "\n",
    "# Print the calculated median value\n",
    "print(\"Median value:\", median_value)\n"
   ]
  },
  {
   "cell_type": "code",
   "execution_count": null,
   "id": "7b91e731-1ed9-4357-8c3a-73e16a4bcc3b",
   "metadata": {
    "scrolled": true,
    "tags": []
   },
   "outputs": [],
   "source": [
    "threshold = 0.9\n",
    "selectList = []\n",
    "for cluster in clusterList:\n",
    "    dbscanVal = sum(cluster[0][0])\n",
    "    fuzzyVal = cluster[0][1][1]\n",
    "    mseVal = cluster[0][1][3]\n",
    "    #print(dbscanVal, fuzzyVal, mseVal, dbscanVal == 0 or (fuzzyVal == 100.0 or mseVal == 0.0))\n",
    "    if dbscanVal == 0 or (fuzzyVal >= 100.0 - threshold * 10 or mseVal <= 0.0 + threshold):\n",
    "        continue\n",
    "    selectList.append((cluster[1], fuzzyVal, mseVal, cluster[0][0]))\n",
    "    print(cluster[1], fuzzyVal, mseVal, cluster[0][0])\n",
    "\n",
    "print(len(selectList))"
   ]
  },
  {
   "cell_type": "code",
   "execution_count": 30,
   "id": "d1d2c174-7ebb-4428-a055-41dc9e39796c",
   "metadata": {
    "tags": []
   },
   "outputs": [
    {
     "data": {
      "application/vnd.jupyter.widget-view+json": {
       "model_id": "fb6628e40e174d94bfef051b85ae32b0",
       "version_major": 2,
       "version_minor": 0
      },
      "text/plain": [
       "VBox(children=(HBox(children=(Dropdown(description='url', options=('https://amazon.com', 'https://baidu.com', …"
      ]
     },
     "metadata": {},
     "output_type": "display_data"
    },
    {
     "ename": "NameError",
     "evalue": "name 'clusterList' is not defined",
     "output_type": "error",
     "traceback": [
      "\u001b[0;31m---------------------------------------------------------------------------\u001b[0m",
      "\u001b[0;31mNameError\u001b[0m                                 Traceback (most recent call last)",
      "Cell \u001b[0;32mIn[30], line 146\u001b[0m\n\u001b[1;32m    143\u001b[0m display(layout)\n\u001b[1;32m    145\u001b[0m \u001b[38;5;28;01mif\u001b[39;00m \u001b[38;5;18m__name__\u001b[39m \u001b[38;5;241m==\u001b[39m \u001b[38;5;124m\"\u001b[39m\u001b[38;5;124m__main__\u001b[39m\u001b[38;5;124m\"\u001b[39m:\n\u001b[0;32m--> 146\u001b[0m     \u001b[43mload_url\u001b[49m\u001b[43m(\u001b[49m\u001b[38;5;28;43;01mNone\u001b[39;49;00m\u001b[43m)\u001b[49m\n",
      "Cell \u001b[0;32mIn[30], line 20\u001b[0m, in \u001b[0;36mload_url\u001b[0;34m(button_click)\u001b[0m\n\u001b[1;32m     18\u001b[0m     output3\u001b[38;5;241m.\u001b[39mclear_output()\n\u001b[1;32m     19\u001b[0m     metadata3\u001b[38;5;241m.\u001b[39mvalue \u001b[38;5;241m=\u001b[39m \u001b[38;5;124m\"\u001b[39m\u001b[38;5;124m\"\u001b[39m\n\u001b[0;32m---> 20\u001b[0m dbscanVal \u001b[38;5;241m=\u001b[39m \u001b[38;5;28mstr\u001b[39m(\u001b[43mclusterList\u001b[49m[urllist\u001b[38;5;241m.\u001b[39mindex(urlLayer\u001b[38;5;241m.\u001b[39mvalue)][\u001b[38;5;241m0\u001b[39m][\u001b[38;5;241m0\u001b[39m])\n\u001b[1;32m     21\u001b[0m frameDiff \u001b[38;5;241m=\u001b[39m \u001b[38;5;28mstr\u001b[39m(clusterList[urllist\u001b[38;5;241m.\u001b[39mindex(urlLayer\u001b[38;5;241m.\u001b[39mvalue)][\u001b[38;5;241m0\u001b[39m][\u001b[38;5;241m1\u001b[39m])\n\u001b[1;32m     22\u001b[0m hdbscanVal \u001b[38;5;241m=\u001b[39m \u001b[38;5;28mstr\u001b[39m(clusterList[urllist\u001b[38;5;241m.\u001b[39mindex(urlLayer\u001b[38;5;241m.\u001b[39mvalue)][\u001b[38;5;241m0\u001b[39m][\u001b[38;5;241m2\u001b[39m])\n",
      "\u001b[0;31mNameError\u001b[0m: name 'clusterList' is not defined"
     ]
    }
   ],
   "source": [
    "import ipywidgets as widgets\n",
    "from IPython.display import display\n",
    "from IPython.display import display, clear_output\n",
    "\n",
    "\n",
    "def load_url(button_click):\n",
    "    global snapshotDf\n",
    "    snapshotDf = client.query_df(f\"select * from {snapshotDb}.{snapshotTable} where url.init=='{urlLayer.value}' ORDER BY meta.agentid ASC\")\n",
    "    with output1:\n",
    "        current = {}\n",
    "        current['new'] = agentLayer1.value\n",
    "        update_output1(current)\n",
    "    with output2:\n",
    "        current = {}\n",
    "        current['new'] = agentLayer2.value\n",
    "        update_output2(current)\n",
    "    with output3:\n",
    "        output3.clear_output()\n",
    "        metadata3.value = \"\"\n",
    "    dbscanVal = str(clusterList[urllist.index(urlLayer.value)][0][0])\n",
    "    frameDiff = str(clusterList[urllist.index(urlLayer.value)][0][1])\n",
    "    hdbscanVal = str(clusterList[urllist.index(urlLayer.value)][0][2])\n",
    "    opticsVal = str(clusterList[urllist.index(urlLayer.value)][0][3])\n",
    "    metadata4.value = f\"{dbscanVal}\\n{hdbscanVal}\\n{opticsVal}\\n{frameDiff}\"\n",
    "        \n",
    "def single_snapshot():\n",
    "    return 0\n",
    "    analyze_snapshot(urllist, snapshotTable, singleUrl=urllist.index(urlLayer.value))\n",
    "\n",
    "def compare_images(button_click):\n",
    "    snapshotEntry1 = snapshotDf[(snapshotDf[\"meta.agentid\"] == agentList[agentLayer1.value])]\n",
    "    image1 = snapshotEntry1[\"http.image\"].item()\n",
    "    snapshotEntry2 = snapshotDf[(snapshotDf[\"meta.agentid\"] == agentList[agentLayer2.value])]\n",
    "    image2 = snapshotEntry2[\"http.image\"].item()\n",
    "    imgDiff = image_diff(image1, image2)\n",
    "    with output3:\n",
    "        output3.clear_output()\n",
    "        display(imgDiff[0].resize((\n",
    "            int(imgDiff[0].width // IMAGE_RATIO),\n",
    "            int(imgDiff[0].height // IMAGE_RATIO)\n",
    "            )))\n",
    "        ppdeep1 = snapshotEntry1['http.fuzzyhash'].item()\n",
    "        ppdeep2 = snapshotEntry2['http.fuzzyhash'].item()\n",
    "        sha256_1 = snapshotEntry1['http.sha256'].item()\n",
    "        sha256_2 = snapshotEntry2['http.sha256'].item()\n",
    "        ent1 = snapshotEntry1['http.entropy'].item()\n",
    "        ent2 = snapshotEntry2['http.entropy'].item()\n",
    "        metadata3.value = (f\"Content SHA256 match: {sha256_match(sha256_1, sha256_2)}\\n\"\n",
    "                           f\"Content Ppdeep similarity: {ppdeep_diff(ppdeep1, ppdeep2)}\\n\"\n",
    "                           f\"Image Mean squared error: {round(imgDiff[1], 4)}\\n\"\n",
    "                           f\"URL match: {url_match(snapshotEntry1['url.init'].item(), snapshotEntry1['url.end'].item())}\"\n",
    "                           f\" | {url_match(snapshotEntry2['url.init'].item(), snapshotEntry2['url.end'].item())}\\n\"\n",
    "                           f\"SSL match: {snapshotEntry1['http.ssl'].item() == snapshotEntry2['http.ssl'].item()}\"\n",
    "                          )\n",
    "\n",
    "def update_output1(change):\n",
    "    index = change['new']\n",
    "    with output1:\n",
    "        output1.clear_output()\n",
    "        snapshotEntry = snapshotDf[(snapshotDf[\"meta.agentid\"] == agentList[agentLayer1.value])]\n",
    "        image = image_load(snapshotEntry[\"http.image\"].item())\n",
    "        display(image.resize((\n",
    "            int(image.width // IMAGE_RATIO),\n",
    "            int(image.height // IMAGE_RATIO)\n",
    "            )))\n",
    "        metadata1.value = (f\"AgentID: {snapshotEntry['meta.agentid'].item()}\\n\"\n",
    "                           f\"URL: {snapshotEntry['url.init'].item()}\\n\"\n",
    "                           f\"Visited URL: {snapshotEntry['url.end'].item()}\\n\"\n",
    "                           f\"Collection time: {snapshotEntry['meta.interacttime'].item().microsecond/1000}s\\n\"\n",
    "                           f\"UserAgent: {snapshotEntry['http.useragent'].item()}\\n\"\n",
    "                           f\"SSL fingerprint: {snapshotEntry['http.ssl'].item()}\\n\"\n",
    "                           f\"SHA256: {snapshotEntry['http.sha256'].item()}\\n\"\n",
    "                           f\"Ppdeep: {snapshotEntry['http.fuzzyhash'].item()}\"\n",
    "                          )\n",
    "        \n",
    "def update_output2(change):\n",
    "    index = change['new']\n",
    "    with output2:\n",
    "        output2.clear_output()\n",
    "        snapshotEntry = snapshotDf[(snapshotDf[\"meta.agentid\"] == agentList[agentLayer2.value])]\n",
    "        image = image_load(snapshotEntry[\"http.image\"].item())\n",
    "        display(image.resize((\n",
    "            int(image.width // IMAGE_RATIO),\n",
    "            int(image.height // IMAGE_RATIO)\n",
    "            )))\n",
    "        metadata2.value = (f\"AgentID: {snapshotEntry['meta.agentid'].item()}\\n\"\n",
    "                           f\"URL: {snapshotEntry['url.init'].item()}\\n\"\n",
    "                           f\"Visited URL: {snapshotEntry['url.end'].item()}\\n\"\n",
    "                           f\"Collection time: {snapshotEntry['meta.interacttime'].item().microsecond/1000}s\\n\"\n",
    "                           f\"UserAgent: {snapshotEntry['http.useragent'].item()}\\n\"\n",
    "                           f\"SSL fingerprint: {snapshotEntry['http.ssl'].item()}\\n\"\n",
    "                           f\"SHA256: {snapshotEntry['http.sha256'].item()}\\n\"\n",
    "                           f\"Ppdeep: {snapshotEntry['http.fuzzyhash'].item()}\"\n",
    "                          )\n",
    "            \n",
    "def reload_images(button_click):\n",
    "    with output1:\n",
    "        current = {}\n",
    "        current['new'] = agentLayer1.value\n",
    "        update_output1(current)\n",
    "    with output2:\n",
    "        current = {}\n",
    "        current['new'] = agentLayer2.value\n",
    "        update_output2(current)\n",
    "    with output3:\n",
    "        output3.clear_output()\n",
    "        metadata3.value = \"\"\n",
    "\n",
    "\n",
    "IMAGE_RATIO = 3.5\n",
    "vboxWidth = \"455px\"\n",
    "\n",
    "urlLayer = widgets.Dropdown(options=urlList, value=urlList[0], description=\"url\", disabled=False)\n",
    "agentLayer1 = widgets.IntSlider(min=0, max=len(agentList) - 1, value=0)\n",
    "agentLayer2 = widgets.IntSlider(min=0, max=len(agentList) - 1, value=0)\n",
    "snapshotButton = widgets.Button(description=\"Analyze snapshot\")\n",
    "reloadButton = widgets.Button(description=\"Reload images\")\n",
    "compareButton = widgets.Button(description=\"Compare images\")\n",
    "\n",
    "urlLayer.observe(load_url, names='value')\n",
    "agentLayer1.observe(update_output1, names='value')\n",
    "agentLayer2.observe(update_output2, names='value')\n",
    "snapshotButton.on_click(single_snapshot)\n",
    "reloadButton.on_click(reload_images)\n",
    "compareButton.on_click(compare_images)\n",
    "\n",
    "textboxSize = widgets.Layout(flex='0 1 auto', width='450px')\n",
    "output1 = widgets.Output()\n",
    "metadata1 = widgets.Textarea(placeholder='Vantage1 metadata', layout=textboxSize)\n",
    "output2 = widgets.Output()\n",
    "metadata2 = widgets.Textarea(placeholder='Vantage2 metadata', layout=textboxSize)\n",
    "output3 = widgets.Output()\n",
    "metadata3 = widgets.Textarea(placeholder='Comparison results', layout=textboxSize)\n",
    "metadata4 = widgets.Textarea(placeholder='Snapshot clusters', layout=widgets.Layout(flex='0 1 auto', width='600px'))\n",
    "\n",
    "hbox1 = widgets.HBox([urlLayer, metadata4])\n",
    "vbox1 = widgets.VBox([agentLayer1, output1, metadata1], layout=widgets.Layout(width=vboxWidth))\n",
    "vbox2 = widgets.VBox([agentLayer2, output2, metadata2], layout=widgets.Layout(width=vboxWidth))\n",
    "hbox2 = widgets.HBox([compareButton])\n",
    "vbox3 = widgets.VBox([hbox2, output3, metadata3], layout=widgets.Layout(width=vboxWidth))\n",
    "hbox3 = widgets.HBox([vbox1, vbox2, vbox3])\n",
    "layout = widgets.VBox([hbox1, hbox3])\n",
    "display(layout)\n",
    "\n",
    "if __name__ == \"__main__\":\n",
    "    load_url(None)"
   ]
  }
 ],
 "metadata": {
  "kernelspec": {
   "display_name": "Python 3 (ipykernel)",
   "language": "python",
   "name": "python3"
  },
  "language_info": {
   "codemirror_mode": {
    "name": "ipython",
    "version": 3
   },
   "file_extension": ".py",
   "mimetype": "text/x-python",
   "name": "python",
   "nbconvert_exporter": "python",
   "pygments_lexer": "ipython3",
   "version": "3.11.8"
  }
 },
 "nbformat": 4,
 "nbformat_minor": 5
}
